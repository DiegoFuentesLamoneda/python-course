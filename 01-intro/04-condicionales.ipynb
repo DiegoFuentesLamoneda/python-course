{
 "cells": [
  {
   "attachments": {},
   "cell_type": "markdown",
   "metadata": {},
   "source": [
    "# Condicionales"
   ]
  },
  {
   "attachments": {},
   "cell_type": "markdown",
   "metadata": {},
   "source": [
    "1. Escribe un programa que le pregunte al usuario por 3 números enteros y escriba si están en orden ascendente."
   ]
  },
  {
   "attachments": {},
   "cell_type": "markdown",
   "metadata": {},
   "source": [
    "2. Escribe un programa que le pregunte al usuario por 5 números enteros y muestre el mayor de todos."
   ]
  },
  {
   "attachments": {},
   "cell_type": "markdown",
   "metadata": {},
   "source": [
    "3. Escribe un programa que que resuelva cualquier ecuación de primer grado de la forma: `ax+b=0`, donde `x` es la incógnita y `a` y `b` son dos números reales introducidos por el usuario."
   ]
  },
  {
   "attachments": {},
   "cell_type": "markdown",
   "metadata": {},
   "source": [
    "4. Escribe un programa que lea un número entero y muestre un menú con las siguientes tres opciones:\n",
    "    \n",
    "    **a**. Calcular n^2\n",
    "    \n",
    "    **b**. Calcular n^3\n",
    "    \n",
    "    **c**. Calcular n*n\n",
    "\n",
    "    Cada opción tiene una letra y, dependiendo de esta letra, el programa ejecutará una opción y mostrará el resultado al usuario."
   ]
  },
  {
   "attachments": {},
   "cell_type": "markdown",
   "metadata": {},
   "source": [
    "5. Escribe un progama que le pregunte al usuario por 4 números enteros en el rango [0-100]\n",
    "(representando las notas de un estudianto en los diferentes examenes) y calcula la media. Finalmente, el programa deberá escribir la nota media y la letra asociada a esta nota, con referencia a la siguiente tabla:\n",
    "    \n",
    "    [90,100] A\n",
    "\n",
    "    [80,90) B\n",
    "\n",
    "    [70,80) C\n",
    "\n",
    "    [60,70) D\n",
    "    \n",
    "    [0,60) E"
   ]
  },
  {
   "attachments": {},
   "cell_type": "markdown",
   "metadata": {},
   "source": [
    "6. Escribe un programa que le pregunte al usuario por la presión de las 4 ruedas de su coche. Si la presión de las 2 ruedas delanteras es la misma y la presión de las 2 ruedas traseras es la misma, muestra un mensaje diciendo que la presión de las ruedas es correcta."
   ]
  }
 ],
 "metadata": {
  "language_info": {
   "name": "python"
  },
  "orig_nbformat": 4
 },
 "nbformat": 4,
 "nbformat_minor": 2
}
