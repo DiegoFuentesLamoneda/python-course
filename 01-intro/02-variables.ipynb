{
 "cells": [
  {
   "attachments": {},
   "cell_type": "markdown",
   "metadata": {},
   "source": [
    "# Conversión de Temperatura\n",
    "1. Escribe un programa para convertir grados Celsios a grados Farenheit. Sigue las siguientes instrucciones:\n",
    "Crea una variable y llámala `C`. Esta variable guardará el valor que representa la temperatura en grados Celsios, asigan a la variable `C` el valor `30`. Ahora, crea otra variable `F`. Asigna a esta variable el valor de `C` en Farenheit. La fórmula es la siguiente:\n",
    "\n",
    "    ºC a ºF: Multiplica por 9, divide por 5, suma 32\n",
    "\n",
    "    Intenta escribir la fórmula en una sola línea. El resultado debería ser 86.\n",
    "\n",
    "    Ahora, haz la conversión opuyesta. Asigna a la variable `F`el valor 77 y asigna a la varibale `C`el valor de `F` en grados Celsios. La fórmula en este caso es:\n",
    "\n",
    "    ºF a ºC: Resta 32, multipica por 5, divide por 9.\n",
    "\n",
    "    Mantén el orden correcto de las operaciones para obtener el resultado esperado (25 grados).\n",
    "\n",
    "    Finalmente, en vez de usar números enteros, asigna a `C` y `F` valores reales (decimales) y comprueba que las expresiones anteriores todavía funcionan."
   ]
  },
  {
   "attachments": {},
   "cell_type": "markdown",
   "metadata": {},
   "source": [
    "# Operadores relacionales y lógicos\n",
    "2. a) Asigna a `a`y `b` dos números enteros. Asigna a `c` la expresión lógica que compruebe si \"`a` está entre 5 y 30 (incluídos) y `b` es un número par\". Un número es múltiplo de otro si el resto de la división es zero. Asigna diferentes pares de valores a `a` y `b` y comprueba que la expresión funciona correctamente.\n",
    "\n",
    "    b) Obtén el tipo de dato de la variable `c`\n",
    "    \n",
    "    c) Asigna a otra variable `d` la expresión opuesta, que es, la Ley de Morgan: \"`a` no está entre 5 y 30 o `b` es un número impar\". Cambia los valores de `a` y `b` y comprueba que `c` y `d` siemrpe tienen valores opuestos."
   ]
  }
 ],
 "metadata": {
  "language_info": {
   "name": "python"
  },
  "orig_nbformat": 4
 },
 "nbformat": 4,
 "nbformat_minor": 2
}
