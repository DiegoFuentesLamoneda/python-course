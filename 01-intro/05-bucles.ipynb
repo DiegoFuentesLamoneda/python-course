{
 "cells": [
  {
   "attachments": {},
   "cell_type": "markdown",
   "metadata": {},
   "source": [
    "# Bucles"
   ]
  },
  {
   "attachments": {},
   "cell_type": "markdown",
   "metadata": {},
   "source": [
    "### Haz los ejercicios usando el bucle `while` primero, después intenla resolverlos de nuevo utilizando el bucle `for`"
   ]
  },
  {
   "attachments": {},
   "cell_type": "markdown",
   "metadata": {},
   "source": [
    "1. Escribe un programa que calcule y muestre la **suma** de todos los números enteros desde 1 hasta un número límite. Pregúntale al usuario por el número límite que debe ser mayor a 0."
   ]
  },
  {
   "attachments": {},
   "cell_type": "markdown",
   "metadata": {},
   "source": [
    "2. Escribe un programa que calcule y muestre la **multiplicación** de todos los números enteros desde 1 hasta un número límite. Pregúntale al usuario por el número límite que debe ser mayor a 0."
   ]
  },
  {
   "attachments": {},
   "cell_type": "markdown",
   "metadata": {},
   "source": [
    "3. Escribe un programa que lea un número n>0, y escriba n asteriscos. Ejemplo para n = 3:\n",
    "   \n",
    "    `***`"
   ]
  },
  {
   "attachments": {},
   "cell_type": "markdown",
   "metadata": {},
   "source": [
    "4. Escribe un programa que muestre todos los números entre 20 y 10 en orden descendente.\n",
    "\n",
    "    20\n",
    "\n",
    "    19\n",
    "\n",
    "    18\n",
    "\n",
    "    ...\n",
    "\n",
    "    10"
   ]
  },
  {
   "attachments": {},
   "cell_type": "markdown",
   "metadata": {},
   "source": [
    "5. Escribe un programa que muestre todos los números pares entre 40  20 en orden descendente.\n",
    "   \n",
    "    40\n",
    "\n",
    "    38\n",
    "\n",
    "    36\n",
    "\n",
    "    ...\n",
    "    \n",
    "    20"
   ]
  },
  {
   "attachments": {},
   "cell_type": "markdown",
   "metadata": {},
   "source": [
    "6. Escribe un programa que muestre tdis los múltiplos de 3 menores de 100."
   ]
  },
  {
   "attachments": {},
   "cell_type": "markdown",
   "metadata": {},
   "source": [
    "7. Escribe un programa que lea un caracter cada vez que le pregunte al usuario hasta que introduzca `.`.\n",
    "Después, el programa debe mostrar el número de caracteres `a` en el input."
   ]
  },
  {
   "attachments": {},
   "cell_type": "markdown",
   "metadata": {},
   "source": [
    "8. Escribe un programa que lea dos números, `n` y `m`. El programa debe mostrar todos los números entre `n` y `m`, ellos incluidos, y debe indicar para cada número si es par o impar."
   ]
  },
  {
   "attachments": {},
   "cell_type": "markdown",
   "metadata": {},
   "source": [
    "9. Escribe un programa que lea números de uno en uno hasta que el usuario introduzca un número negativo. Después, el programa debe mostrar la media de todos los números."
   ]
  },
  {
   "attachments": {},
   "cell_type": "markdown",
   "metadata": {},
   "source": [
    "10. Escribe unprograma que lea un número n > 0 y muestre lo siguiente:\n",
    "    \n",
    "    1\n",
    "\n",
    "    1 2\n",
    "\n",
    "    1 2 3\n",
    "\n",
    "    ...\n",
    "    \n",
    "    1 2 3 ... n-1 n"
   ]
  }
 ],
 "metadata": {
  "language_info": {
   "name": "python"
  },
  "orig_nbformat": 4
 },
 "nbformat": 4,
 "nbformat_minor": 2
}
