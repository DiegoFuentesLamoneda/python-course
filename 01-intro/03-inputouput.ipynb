{
 "cells": [
  {
   "attachments": {},
   "cell_type": "markdown",
   "metadata": {},
   "source": [
    "# Standard Input/Ouptut"
   ]
  },
  {
   "attachments": {},
   "cell_type": "markdown",
   "metadata": {},
   "source": [
    "1. Escribe un programa en Python que haga lo siguiente:\n",
    "    * Pedirle al usuario introucir el nombre y dos notas de un estudiante\n",
    "    * Calcular la nota media del estudiante\n",
    "    * Guardar en una variable `booblean` el valor `True` si la media es mayor o igual a 5. De lo contrario, `False`."
   ]
  },
  {
   "attachments": {},
   "cell_type": "markdown",
   "metadata": {},
   "source": [
    "2. Añade al anterior ejercicio las instrucciones necesarias para mostrar por pantalla la nota media de la siguiente manera:\n",
    "\n",
    "    **La nota media de Juan es 3.25**\n",
    "    \n",
    "    **Aprueba la asignatura: False**"
   ]
  },
  {
   "attachments": {},
   "cell_type": "markdown",
   "metadata": {},
   "source": [
    "3. Escribe un programa en Python que le pregunte al usuario el radio de una circunferencia y luego calcule su área. El resultado se debe mostrar por pantalla de la siguiente manera (2 decimales para el radio y 4 para el área):\n",
    "\n",
    "    **El área de la circunferencia de radio 4.00 es 50.2656**"
   ]
  },
  {
   "attachments": {},
   "cell_type": "markdown",
   "metadata": {},
   "source": [
    "4. Escribe un programa que le pregunte al usuario por la distancia en metros y muestre por pantalla la equilencia en pies y millas."
   ]
  }
 ],
 "metadata": {
  "language_info": {
   "name": "python"
  },
  "orig_nbformat": 4
 },
 "nbformat": 4,
 "nbformat_minor": 2
}
