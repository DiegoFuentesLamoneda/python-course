{
 "cells": [
  {
   "attachments": {},
   "cell_type": "markdown",
   "metadata": {},
   "source": [
    "# Ejercicios básicos de Python"
   ]
  },
  {
   "attachments": {},
   "cell_type": "markdown",
   "metadata": {},
   "source": [
    "`int()` se aplica a u número real, transforma este número en un número entero y elimina la parte decimal. Por otro lado, `round()` mantiene el número como real pero también elimina la parte decimal. Intenta adivnar cuál será el resultado si ejecutas: `int(3.14)`, `round(3.14)`, `type(int(3.14))`, `type(round(3.14))`. Cuál será el resultado si ejecutas `type(\"Hola\")`?"
   ]
  },
  {
   "attachments": {},
   "cell_type": "markdown",
   "metadata": {},
   "source": [
    "1. Crea una variable `a` y asígnale el valor `3`. Crea otra variable `b` y asignale la expresión `a+5`.\n",
    "\n",
    "    a) Cuál es el valor de `b`?\n",
    "\n",
    "    b) Cambia el valor de la variable `a` a `7`. Cuál es el valor de `b`? Por qué?\n",
    "\n",
    "    c) Cuál es el tipo de dato de `a` y de `b`?\n",
    "\n",
    "    d) Asígnale a la variable `a` el valor `5.0` y actualiza la variable `b` como `b=a+5` otra vez. Cuál es el valor de `b` ahora? Cuál es su tipo?\n",
    "\n",
    "    e) Si escribimos la expresión `b=b+1`, estamos comprobando que `b` es igual al valor de `b+1`? Qué obtenemos?\n",
    "\n",
    "    f) Dale a la variable `a` el valor `\"Hola\"` y a la variable `b` el valor `\"Mundo\"`. Cuál es el tipo de dato de las varibales? Qué función utilizas para saber su tipo de dato? Qué obtenemos si ejecutamos `a+b`?"
   ]
  },
  {
   "attachments": {},
   "cell_type": "markdown",
   "metadata": {},
   "source": [
    "2. Escribe una expresión para calcular el resto de 500 divido entre 7. Comprueba que el resultado es 3.\n",
    "\n",
    "3. Escribe un programa que imprima una linea con 80 asteriscos.\n",
    "\n",
    "4. Busca en Internet la fórmula para convertir Farenheit a Celsios. Después, calcula cuántos grados Celsios son 45ºF, con 3 decimales. La respuesta es 7.222\n",
    "\n",
    "5. Calcula la raíz cuadrada de 2 con 5 decimales.\n",
    "\n",
    "6. Cuál será el resultado si ejecutas `tyoe(1/2)`? Compruébalo. Ejecuta la operación y comprueba si el anterior resultado corresponde con el resultado de la división. Por qué? \n",
    "\n",
    "7. Asigna el valor `5`a la variable `n`. Calcula la raíz cuadrada del número `n`. Debes de obtener `1.1486983549970351` "
   ]
  }
 ],
 "metadata": {
  "language_info": {
   "name": "python"
  },
  "orig_nbformat": 4
 },
 "nbformat": 4,
 "nbformat_minor": 2
}
