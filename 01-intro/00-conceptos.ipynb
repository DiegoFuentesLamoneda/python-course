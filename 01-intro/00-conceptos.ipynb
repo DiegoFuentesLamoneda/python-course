{
 "cells": [
  {
   "attachments": {},
   "cell_type": "markdown",
   "metadata": {},
   "source": [
    "# Lenguajes de programación\n",
    "Un `lenguaje de programación` es un lenguaje (artificial) formal, eso significa  que con reglas estrictas, diseñado para escribir programas que pueden ser ejecutados por un ordenador.\n",
    "\n",
    "Los ordenadores pueden entender y ejecutar instrucciones en la forma de código máquina solo."
   ]
  },
  {
   "attachments": {},
   "cell_type": "markdown",
   "metadata": {},
   "source": [
    "# Valores\n",
    "Los programas manipulan información (`valores`) para resolver problemas\n",
    "* Obtener datos de entrada (base, altura)\n",
    "* Realizar calculos con ellos\n",
    "* Obtener resultados (`area`)\n",
    "\n",
    "Hay diferentes tipos de valores y diferentes operaciones con ellos\n",
    "* `Números` 7, 3.1416\n",
    "* `Strings de texto` Juan, Alonso 123, Clase de Python\n",
    "* `Operadores lógicos` True, False"
   ]
  },
  {
   "attachments": {},
   "cell_type": "markdown",
   "metadata": {},
   "source": [
    "# Tipos de datos\n",
    "Todos los valores tienen un tipo describiendo los posibles valores y operaciones que se pueden realizar.\n",
    "\n",
    "`Tipos built-in` en python incluyen números, boolean, caracteres y secuencias de caracteres .\n",
    "\n",
    "En muchos lenguajes, podemos saber tu tipo e incluso cambiarlo.\n",
    "\n",
    "En python: `type()` devuelve el tipo de cualquier valor y expresión."
   ]
  },
  {
   "cell_type": "code",
   "execution_count": null,
   "metadata": {},
   "outputs": [],
   "source": [
    "print(type(7))\n",
    "print(type(3.1416))\n",
    "print(type(\"Hola\"))\n",
    "print(type(True))"
   ]
  },
  {
   "attachments": {},
   "cell_type": "markdown",
   "metadata": {},
   "source": [
    "# Conversión de datos: Casting\n",
    "Conversión de tipo de datos: A veces, necesitarás transformar el tipo de dato entre los tipos `built-in`.\n",
    "\n",
    "Para convertir entre tipos, simplemente utiliza el nombre del tipo como una función."
   ]
  },
  {
   "cell_type": "code",
   "execution_count": null,
   "metadata": {},
   "outputs": [],
   "source": [
    "print(int(\"7\"))\n",
    "print(str(7))\n",
    "print(float(\"3.1416\"))\n",
    "print(str(3.1416))\n",
    "print(float(7))"
   ]
  },
  {
   "attachments": {},
   "cell_type": "markdown",
   "metadata": {},
   "source": [
    "# Operadores\n",
    "Los programas realizan cálculos y operaciones en datos usando operadores.\n",
    "\n",
    "Con todos los tipos de valores, las diferentes operaciones pueden ser realizadas. El resultado de cualquier operación siempre tiene un tipo.\n",
    "\n",
    "* Aritméticos: +, -, *, /, %, **\n",
    "* Relacionales: <, >, <=, >=, ==, !=\n",
    "* Lógicos: and, or, not"
   ]
  },
  {
   "attachments": {},
   "cell_type": "markdown",
   "metadata": {},
   "source": [
    "# Expresiones\n",
    "Combinación de operadores y operandos que producen un resultado (valor) de un tipò concreto. El resultado de cualquer operación siempre tiene un tipo. El resultado y el tipo dependerá de los valores y operaciones usadas."
   ]
  },
  {
   "attachments": {},
   "cell_type": "markdown",
   "metadata": {},
   "source": [
    "# Precedencia\n",
    "Como los diferentes operadores pueden ser mezclados, hay relgas para determinar el orden preciso en los que serán aplicados:\n",
    "1. Primero lo que está entre paréntesis\n",
    "2. Aritméticos > Relacionales > Lógicos\n",
    "3. Potencia > Mutliplicaciones/Divisiones > Adición (+, -)"
   ]
  },
  {
   "attachments": {},
   "cell_type": "markdown",
   "metadata": {},
   "source": [
    "# Variables\n",
    "Una variables es una forma de referenciar en la ubicación en memoria del programa.\n",
    "\n",
    "Esta ubicación en memoria tiene un valor, y este valor puede cambiar.\n",
    "\n",
    "Las variables representan un valor (datos de entrada, resultados o valores intermedios) y, en momentos diferentes puede representar valores diferentes. Para acceder a este valor siplementge escribe el nombre de la variable.\n",
    "\n",
    "Las variables tendrán un tipo concreto. `type()` nos premite saber el tipo de valor que contiene la variable."
   ]
  },
  {
   "attachments": {},
   "cell_type": "markdown",
   "metadata": {},
   "source": [
    "# Reglas de nomenclatura de variables\n",
    "Existen reglas diferentes para cada lenguaje de programación. Para python:\n",
    "1. Debe empezar por letra (a-z,A-Z) o barra baja (_).\n",
    "2. Otros caracteres pueden ser letras o números.\n",
    "3. Los nombres de variables son `case sensitive`.\n",
    "4. Existen palabras reservadas que no se pueden utilizar como nombres de variables.\n",
    "\n",
    "Ejemplos: name, final, speed, x2, y_2\n",
    "\n",
    "**El nombre de una variable debe representar el valor que contiene y su propósito en el código**"
   ]
  },
  {
   "attachments": {},
   "cell_type": "markdown",
   "metadata": {},
   "source": [
    "# Asignaciones\n",
    "Una asignación es una instrucción que nos permite dar o cambiar un valor a una variables. La sintaxis es `variable = expresión`.\n",
    "\n",
    "Para obtener datos de entrada por teclado, la función `input()` puede ser utilizada. Devuelve el valor en tipo `string`. Nos permite mostrar al usuario un mensaje informativo de lo que queremos que introduzca.\n",
    "\n",
    "Ejemplo:\n",
    "\n",
    "`input = input(\"Escribe tu nombre \")` \n",
    "\n",
    "El string también se puede convertir a otro tipo de dato:\n",
    "\n",
    "`input_2 = int(input(\"Escribe un número entero\"))` "
   ]
  },
  {
   "attachments": {},
   "cell_type": "markdown",
   "metadata": {},
   "source": [
    "# Resultados\n",
    "Para mostrar los datos en nuestra terminal, la `expresión print` puede ser utilizada, donde la expresión puede ser de tipo string, int o float.\n",
    "\n",
    "`print(\"Hola mundo\")`\n",
    "\n",
    "`print(25)` \n",
    "\n",
    "`print(2+2)`\n",
    "\n",
    "`print(3.14)`\n",
    "\n",
    "Se pueden utilizar caracteres especiales para dar un formato especial. `\\n` se utiliza para empezar una línea nueva, `\\t` se utiliza para obtener el espacio de un tabulador."
   ]
  },
  {
   "attachments": {},
   "cell_type": "markdown",
   "metadata": {},
   "source": [
    "# Resuttado formateado\n",
    "Print nos permite utilizar técinas de formateo avanzadas con el operador `%`:\n",
    "\n",
    "`print(\"Tengo %d años y vivos en %s\", (25, \"Madrid\"))` otra opción sería utilizar lo siguiente:\n",
    "\n",
    "`print(f\"Tengo {edad} años y vivo en {ciudad}.\")` donde `edad` y `ciudad` son variables y se obtiene su valor.\n",
    "\n",
    "En cuanto a los números, podemos indicar el número de decimales que queremos de la siguietne manera:\n",
    "`print(\"Mido %2f\", 1.714678)` Este print nos devolverá *Mido 1.71*, el 2 significa que queremos solamente 2 decimales, si en vez de `2f` ponemos `3f` entonces estaremos indicando que queremos 3 decimales y el resultado sería *Mido 1.714*\n",
    "\n",
    "Otra opción es utilizar la función `round()` para redondear un número con x decimales:  `round(3.1416, 2)` *3.14*"
   ]
  }
 ],
 "metadata": {
  "kernelspec": {
   "display_name": "Python 3",
   "language": "python",
   "name": "python3"
  },
  "language_info": {
   "name": "python",
   "version": "3.11.2"
  },
  "orig_nbformat": 4,
  "vscode": {
   "interpreter": {
    "hash": "b0fa6594d8f4cbf19f97940f81e996739fb7646882a419484c72d19e05852a7e"
   }
  }
 },
 "nbformat": 4,
 "nbformat_minor": 2
}
