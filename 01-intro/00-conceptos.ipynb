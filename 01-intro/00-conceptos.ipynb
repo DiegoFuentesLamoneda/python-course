{
 "cells": [
  {
   "attachments": {},
   "cell_type": "markdown",
   "metadata": {},
   "source": [
    "# Lenguajes de programación\n",
    "Un `lenguaje de programación` es un lenguaje (artificial) formal, eso significa  que con reglas estrictas, diseñado para escribir programas que pueden ser ejecutados por un ordenador.\n",
    "\n",
    "Los ordenadores pueden entender y ejecutar instrucciones en la forma de código máquina solo."
   ]
  },
  {
   "attachments": {},
   "cell_type": "markdown",
   "metadata": {},
   "source": [
    "# Valores\n",
    "Los programas manipulan información (`valores`) para resolver problemas\n",
    "* Obtener datos de entrada (base, altura)\n",
    "* Realizar calculos con ellos\n",
    "* Obtener resultados (`area`)\n",
    "\n",
    "Hay diferentes tipos de valores y diferentes operaciones con ellos\n",
    "* `Números` 7, 3.1416\n",
    "* `Strings de texto` Juan, Alonso 123, Clase de Python\n",
    "* `Operadores lógicos` True, False"
   ]
  },
  {
   "attachments": {},
   "cell_type": "markdown",
   "metadata": {},
   "source": [
    "# Tipos de datos\n",
    "Todos los valores tienen un tipo describiendo los posibles valores y operaciones que se pueden realizar.\n",
    "\n",
    "`Tipos built-in` en python incluyen números, boolean, caracteres y secuencias de caracteres .\n",
    "\n",
    "En muchos lenguajes, podemos saber tu tipo e incluso cambiarlo.\n",
    "\n",
    "En python: `type()` devuelve el tipo de cualquier valor y expresión."
   ]
  },
  {
   "cell_type": "code",
   "execution_count": null,
   "metadata": {},
   "outputs": [],
   "source": [
    "print(type(7))\n",
    "print(type(3.1416))\n",
    "print(type(\"Hola\"))\n",
    "print(type(True))"
   ]
  },
  {
   "attachments": {},
   "cell_type": "markdown",
   "metadata": {},
   "source": [
    "# Conversión de datos: Casting\n",
    "Conversión de tipo de datos: A veces, necesitarás transformar el tipo de dato entre los tipos `built-in`.\n",
    "\n",
    "Para convertir entre tipos, simplemente utiliza el nombre del tipo como una función."
   ]
  },
  {
   "cell_type": "code",
   "execution_count": null,
   "metadata": {},
   "outputs": [],
   "source": [
    "print(int(\"7\"))\n",
    "print(str(7))\n",
    "print(float(\"3.1416\"))\n",
    "print(str(3.1416))\n",
    "print(float(7))"
   ]
  },
  {
   "attachments": {},
   "cell_type": "markdown",
   "metadata": {},
   "source": [
    "# Operadores\n",
    "Los programas realizan cálculos y operaciones en datos usando operadores.\n",
    "\n",
    "Con todos los tipos de valores, las diferentes operaciones pueden ser realizadas. El resultado de cualquier operación siempre tiene un tipo.\n",
    "\n",
    "* Aritméticos: +, -, *, /, %, **\n",
    "* Relacionales: <, >, <=, >=, ==, !=\n",
    "* Lógicos: and, or, not"
   ]
  },
  {
   "attachments": {},
   "cell_type": "markdown",
   "metadata": {},
   "source": [
    "# Expresiones\n",
    "Combinación de operadores y operandos que producen un resultado (valor) de un tipò concreto. El resultado de cualquer operación siempre tiene un tipo. El resultado y el tipo dependerá de los valores y operaciones usadas."
   ]
  },
  {
   "attachments": {},
   "cell_type": "markdown",
   "metadata": {},
   "source": [
    "# Precedencia\n",
    "Como los diferentes operadores pueden ser mezclados, hay relgas para determinar el orden preciso en los que serán aplicados:\n",
    "1. Primero lo que está entre paréntesis\n",
    "2. Aritméticos > Relacionales > Lógicos\n",
    "3. Potencia > Mutliplicaciones/Divisiones > Adición (+, -)"
   ]
  },
  {
   "attachments": {},
   "cell_type": "markdown",
   "metadata": {},
   "source": [
    "# Variables\n",
    "Una variables es una forma de referenciar en la ubicación en memoria del programa.\n",
    "\n",
    "Esta ubicación en memoria tiene un valor, y este valor puede cambiar.\n",
    "\n",
    "Las variables representan un valor (datos de entrada, resultados o valores intermedios) y, en momentos diferentes puede representar valores diferentes. Para acceder a este valor siplementge escribe el nombre de la variable.\n",
    "\n",
    "Las variables tendrán un tipo concreto. `type()` nos premite saber el tipo de valor que contiene la variable."
   ]
  },
  {
   "attachments": {},
   "cell_type": "markdown",
   "metadata": {},
   "source": [
    "# Reglas de nomenclatura de variables\n",
    "Existen reglas diferentes para cada lenguaje de programación. Para python:\n",
    "1. Debe empezar por letra (a-z,A-Z) o barra baja (_).\n",
    "2. Otros caracteres pueden ser letras o números.\n",
    "3. Los nombres de variables son `case sensitive`.\n",
    "4. Existen palabras reservadas que no se pueden utilizar como nombres de variables.\n",
    "\n",
    "Ejemplos: name, final, speed, x2, y_2\n",
    "\n",
    "**El nombre de una variable debe representar el valor que contiene y su propósito en el código**"
   ]
  },
  {
   "attachments": {},
   "cell_type": "markdown",
   "metadata": {},
   "source": [
    "# Asignaciones\n",
    "Una asignación es una instrucción que nos permite dar o cambiar un valor a una variables. La sintaxis es `variable = expresión`.\n",
    "\n",
    "Para obtener datos de entrada por teclado, la función `input()` puede ser utilizada. Devuelve el valor en tipo `string`. Nos permite mostrar al usuario un mensaje informativo de lo que queremos que introduzca.\n",
    "\n",
    "Ejemplo:\n",
    "\n",
    "`input = input(\"Escribe tu nombre \")` \n",
    "\n",
    "El string también se puede convertir a otro tipo de dato:\n",
    "\n",
    "`input_2 = int(input(\"Escribe un número entero\"))` "
   ]
  },
  {
   "attachments": {},
   "cell_type": "markdown",
   "metadata": {},
   "source": [
    "# Resultados\n",
    "Para mostrar los datos en nuestra terminal, la `expresión print` puede ser utilizada, donde la expresión puede ser de tipo string, int o float.\n",
    "\n",
    "`print(\"Hola mundo\")`\n",
    "\n",
    "`print(25)` \n",
    "\n",
    "`print(2+2)`\n",
    "\n",
    "`print(3.14)`\n",
    "\n",
    "Se pueden utilizar caracteres especiales para dar un formato especial. `\\n` se utiliza para empezar una línea nueva, `\\t` se utiliza para obtener el espacio de un tabulador."
   ]
  },
  {
   "attachments": {},
   "cell_type": "markdown",
   "metadata": {},
   "source": [
    "# Resuttado formateado\n",
    "Print nos permite utilizar técinas de formateo avanzadas con el operador `%`:\n",
    "\n",
    "`print(\"Tengo %d años y vivos en %s\", (25, \"Madrid\"))` otra opción sería utilizar lo siguiente:\n",
    "\n",
    "`print(f\"Tengo {edad} años y vivo en {ciudad}.\")` donde `edad` y `ciudad` son variables y se obtiene su valor.\n",
    "\n",
    "En cuanto a los números, podemos indicar el número de decimales que queremos de la siguietne manera:\n",
    "`print(\"Mido %2f\", 1.714678)` Este print nos devolverá *Mido 1.71*, el 2 significa que queremos solamente 2 decimales, si en vez de `2f` ponemos `3f` entonces estaremos indicando que queremos 3 decimales y el resultado sería *Mido 1.714*\n",
    "\n",
    "Otra opción es utilizar la función `round()` para redondear un número con x decimales:  `round(3.1416, 2)` *3.14*"
   ]
  },
  {
   "attachments": {},
   "cell_type": "markdown",
   "metadata": {},
   "source": [
    "# Condicionales"
   ]
  },
  {
   "attachments": {},
   "cell_type": "markdown",
   "metadata": {},
   "source": [
    "## Opción Simple"
   ]
  },
  {
   "attachments": {},
   "cell_type": "markdown",
   "metadata": {},
   "source": [
    "Al escribir una estructura simple (**if**), tienes que dar una **condición** y una acción o serie de acciones a ejecutar. Si la condición es verdadera las acciones son ejecutadas, de lo contrario nada es ejecutado. Por ejemplo:"
   ]
  },
  {
   "cell_type": "code",
   "execution_count": null,
   "metadata": {},
   "outputs": [],
   "source": [
    "numero = input(\"Escribe un número \")\n",
    "if numero%2 ==0: # Es par\n",
    "    print(\"El número es par\")"
   ]
  },
  {
   "attachments": {},
   "cell_type": "markdown",
   "metadata": {},
   "source": [
    "En el código anterior, se le pide al usuario un número y se muestra la frase `El número es par` si y solo si el número es par, ya que es la condición para entrar en el bloque condicional."
   ]
  },
  {
   "attachments": {},
   "cell_type": "markdown",
   "metadata": {},
   "source": [
    "## Opción Doble"
   ]
  },
  {
   "attachments": {},
   "cell_type": "markdown",
   "metadata": {},
   "source": [
    "En la estructura doble (**if-else**) dos posibles acciones pueden ser ejecutadas depeniendo del resultado de la condición. Si la condición es True, la primera acción es ejecutada, de lo contrario se ejecuta la otra acción. Por ejemplo:"
   ]
  },
  {
   "cell_type": "code",
   "execution_count": null,
   "metadata": {},
   "outputs": [],
   "source": [
    "numero = input(\"Escribe un número \")\n",
    "if numero%2 ==0: # Es par\n",
    "    print(\"El número es par\")\n",
    "else:\n",
    "    print(\"El número es impar\")"
   ]
  },
  {
   "attachments": {},
   "cell_type": "markdown",
   "metadata": {},
   "source": [
    "En el código anterior, se le pide al usuario un número y se muestra la frase `El número es par` si y solo si el número es par, de lo contrario se muestra la frase `El número es impar`."
   ]
  },
  {
   "attachments": {},
   "cell_type": "markdown",
   "metadata": {},
   "source": [
    "## Condiciones Anidadas"
   ]
  },
  {
   "attachments": {},
   "cell_type": "markdown",
   "metadata": {},
   "source": [
    "Estructuras alternativas pueden ser anidadas., esto significa que las acciones que se ejecutan dentro del **if** o **else** pueden contener más estructuras simples o dobles. Por ejemplo:"
   ]
  },
  {
   "cell_type": "code",
   "execution_count": null,
   "metadata": {},
   "outputs": [],
   "source": [
    "numero = input(\"Escribe un número \")\n",
    "if numero%2 == 0: # Es par\n",
    "    if numero >= 0 and numero < 10:\n",
    "        print(\"El número es par y está entre 0 y 9\")\n",
    "    else:\n",
    "        print(\"El número es impar y es mayor de 9\")\n",
    "else:\n",
    "    if numero > 0 and numero < 10:\n",
    "        print(\"El número es impar y está entre 0 y 9\")\n",
    "    else:\n",
    "        print(\"El número es impar y es mayor de 9\")"
   ]
  },
  {
   "attachments": {},
   "cell_type": "markdown",
   "metadata": {},
   "source": [
    "## Structura de opción múltiple"
   ]
  },
  {
   "attachments": {},
   "cell_type": "markdown",
   "metadata": {},
   "source": [
    "Finalmente, Python proporciona una estructura de opción múltiple (**if-elif-else**), que te deja elegir entre varias alternativas como resultado de diferentes expresiones booleanas. De hecho, se puede implementas como **if-else** en cascada pero la sintaxis de **if-elif-else** facilita la lectura del código. Por ejemplo:"
   ]
  },
  {
   "cell_type": "code",
   "execution_count": null,
   "metadata": {},
   "outputs": [],
   "source": [
    "numero = input(\"Escribe un número \")\n",
    "if numero >= 0 and numero < 10:\n",
    "    print(\"El número es par y está entre 0 y 9\")\n",
    "elif numero >= 10 and numero < 50:\n",
    "    print(\"El número es par y está entre 10 y 49\")\n",
    "elif numero >= 50 and numero < 70:\n",
    "    print(\"El número es par y está entre 50 y 69\")\n",
    "else:\n",
    "    print(\"El número es impar y es mayor de 69\")"
   ]
  },
  {
   "attachments": {},
   "cell_type": "markdown",
   "metadata": {},
   "source": [
    "# Bucles"
   ]
  },
  {
   "attachments": {},
   "cell_type": "markdown",
   "metadata": {},
   "source": [
    "Esta estructura continuará repitiendo una serie de instrucciones (body) dependiendo del valor de ciertas condiciones por un número específico de veces."
   ]
  },
  {
   "attachments": {},
   "cell_type": "markdown",
   "metadata": {},
   "source": [
    "Indepedientemente de que necesites o no un bucle para ejecutar una acción un número concreto de veces, debes definir siempre la siguientes tres actividades:\n",
    "\n",
    "* Inicialización: Establecer un estado inicial que será modificado durante todo el proceso, hasta la terminación del bucle.\n",
    "* Test:  Comparar el estado actual con la condición de finalización del bucle y terminar la repetición si ambos estados coinciden.\n",
    "* Modificación: Cambiar el estado de tal manera que se mueva en la dirección adecuada para terminar el bucle."
   ]
  },
  {
   "attachments": {},
   "cell_type": "markdown",
   "metadata": {},
   "source": [
    "### Bucle While"
   ]
  },
  {
   "attachments": {},
   "cell_type": "markdown",
   "metadata": {},
   "source": [
    "La condición se evalúa al principio. Mientras la condición sea `True`, la acción se ejecuta. El bucle se ejecutará 0 o más veces.\n",
    "\n",
    "    while(condición):\n",
    "\n",
    "        acción"
   ]
  },
  {
   "cell_type": "code",
   "execution_count": null,
   "metadata": {},
   "outputs": [],
   "source": [
    "sum = 0\n",
    "num = input(\"Dame un número, 0 para salir. \")\n",
    "while (num != 0):\n",
    "    sum = sum + num\n",
    "    num = input(\"Dame un número, 0 para salir. \")\n",
    "print(f\"Sum {sum}\")"
   ]
  },
  {
   "attachments": {},
   "cell_type": "markdown",
   "metadata": {},
   "source": [
    "### Función range(start, stop, step)"
   ]
  },
  {
   "attachments": {},
   "cell_type": "markdown",
   "metadata": {},
   "source": [
    "**start** Primer número de la serie.\n",
    "\n",
    "**stop** Generar números hasta, no incluido en la serie.\n",
    "\n",
    "**step** Diferencia entre cada número de la serie. <0 o >0. Por defecto es 1.\n"
   ]
  },
  {
   "attachments": {},
   "cell_type": "markdown",
   "metadata": {},
   "source": [
    "### Bucle For"
   ]
  },
  {
   "attachments": {},
   "cell_type": "markdown",
   "metadata": {},
   "source": [
    "    for variable in secuencia:\n",
    "        \n",
    "        accion(es)"
   ]
  },
  {
   "attachments": {},
   "cell_type": "markdown",
   "metadata": {},
   "source": [
    "Secuencia sería una lista en la que en cada iteracción del bucle nuestra variable definida tomaría el valor de un elemento de esa lista por orden hasta terminar de leerla. Se puede usar la función `range()` vista anteriormente con este bucle.\n",
    "\n",
    "Ejemplo: El siguiente bucle escribe números entre 10 y 1, ambos incluídos, línea a línea, en orden descendente:"
   ]
  },
  {
   "cell_type": "code",
   "execution_count": null,
   "metadata": {},
   "outputs": [],
   "source": [
    "for i in range(10, 0, -1):\n",
    "    print(i)"
   ]
  },
  {
   "attachments": {},
   "cell_type": "markdown",
   "metadata": {},
   "source": [
    "# Gestion de cadenas de texto: listas, diccionarios, tuplas y ficheros\n",
    "## Listas (list)\n",
    "\n",
    "Las listas son estructuras de datos que pueden almacenar cualquier otro tipo de dato, inclusive una lista puede contener otra lista, además, la cantidad de elementos de una lista se puede modificar removiendo o añadiendo elementos. Para definir una lista se utilizan los corchetes, dentro de estos se colocan todos los elementos separados por comas:\n",
    "\n",
    "```bash\n",
    "calificaciones = [10,9,8,7.5,9]\n",
    "nombres = [\"Ana\",\"Juan\",\"Sofía\",\"Pablo\",\"Tania\"]\n",
    "mezcla = [True, 10.5, \"abc\", [0,1,1]]\n",
    "```\n",
    "\n",
    "Las listas son iterables y por tanto se puede acceder a sus elementos mediante indexación:\n",
    "\n",
    "```bash\n",
    "nombres[2]\n",
    "```\n",
    "\n",
    "`Sofía`\n",
    "\n",
    "```bash\n",
    "nombres[-1]\n",
    "```\n",
    "\n",
    "`Tania`\n",
    "\n",
    "\n",
    "Se tiene la posibilidad de agregar elementos a una lista mediante el método `append`:\n",
    "\n",
    "```bash \n",
    "nombres.append(\"Antonio\")\n",
    "nombres.append(\"Ximena\")\n",
    "print(nombres)\n",
    "```\n",
    "`['Ana', 'Juan', 'Sofía', 'Pablo', 'Tania', 'Antonio', 'Ximena']`\n",
    "\n",
    "\n",
    "El método `remove` elimina un elemento de una lista:\n",
    "\n",
    "```bash\n",
    "nombres.remove(\"Ana\")\n",
    "print(nombres)\n",
    "```\n",
    "`['Juan', 'Sofía', 'Pablo', 'Tania', 'Antonio', 'Ximena']`\n",
    "\n",
    "\n",
    "Sí el valor pasado al método remove no existe, Python devolverá un ValueError:\n",
    "```bash\n",
    "nombres.remove(\"Jorge\")\n",
    "```\n",
    "\n",
    "---------------------------------------------------------------------------\n",
    "ValueError                                Traceback (most recent call last)\n",
    "<ipython-input-91-d983d2559e2f> in <module>()\n",
    "----> 1 nombres.remove(\"Jorge\")\n",
    "\n",
    "ValueError: list.remove(x): x not in list\n",
    "\n",
    "\n",
    "\n",
    "## Diccionarios (dict)\n",
    "\n",
    "Los diccionarios son estructuras que contienen una colección de elementos de la forma clave: valor separados por comas y encerrados entre llaves. Las claves deben ser objetos inmutables y los valores pueden ser de cualquier tipo. Necesariamente las claves deben ser únicas en cada diccionario, no así los valores.\n",
    "\n",
    "Vamos a definir un diccionario llamado edades en el cual cada clave será un nombre y el valor una edad:\n",
    "```bash\n",
    "edades = {\"Ana\": 25, \"David\": 18, \"Lucas\": 35, \"Ximena\": 30, \"Ale\": 20}\n",
    "```\n",
    "\n",
    "Puede acceder a cada valor de un diccionario mediante su clave, por ejemplo, si quisieramos obtener la edad de la clave `Lucas` se tendría que escribir:\n",
    "```bash\n",
    "edades[\"Lucas\"]\n",
    "```\n",
    "\n",
    "`35`\n",
    "\n",
    "\n",
    "\n",
    "## Tuplas (tuple)\n",
    "\n",
    "Las tuplas son secuencias de elementos similares a las listas, la diferencia principal es que las tuplas no pueden ser modificadas directamente, es decir, una tupla no dispone de los métodos como append o insert que modifican los elementos de una lista.\n",
    "\n",
    "Para definir una tupla, los elementos se separan con comas y se encierran entre paréntesis.\n",
    "\n",
    "```bash\n",
    "colores=(\"Azul\",\"Verde\",\"Rojo\",\"Amarillo\",\"Blanco\",\"Negro\",\"Gris\")\n",
    "```\n",
    "\n",
    "Las tuplas al ser iterables pueden accederse mediante la notación de corchetes e índice.\n",
    "\n",
    "```bash\n",
    "colores[0]\n",
    "```\n",
    "\n",
    "`'Azul'`\n",
    "\n",
    "```bash\n",
    "colores[-1]\n",
    "```\n",
    "\n",
    "`'Gris'`\n",
    "\n",
    "```bash\n",
    "colores[3]\n",
    "```\n",
    "\n",
    "`'Amarillo'`\n",
    "\n",
    "\n",
    "Si intentamos modificar alguno de los elementos de la tupla Python nos devolverá un `TypeError`:\n",
    "```bash\n",
    "colores[0] = \"Café\"\n",
    "```\n",
    "\n",
    "---------------------------------------------------------------------------\n",
    "TypeError                                 Traceback (most recent call last)\n",
    "<ipython-input-96-3502c7127536> in <module>()\n",
    "----> 1 colores[0] = \"Café\"\n",
    "\n",
    "TypeError: 'tuple' object does not support item assignment\n",
    "\n",
    "\n",
    "## Ficheros (files)\n",
    "La equivalencia entre entrada/salida a través de teclado y pantalla y la utilización de ficheros es muy profunda. Los S.O. actuales hacen un tratamiento unificado de estos recursos y tratan, por ejemplo, a la pantalla y al teclado como ficheros de salida y de entrada respectivamente, ficheros que están siempre listos para ser utilizados.\n",
    "\n",
    "Recalquemos que cuando en Python usamos `print()`, estamos escribiendo datos en el fichero por defecto o estándar, la pantalla, y que cuando empleamos `input()`, estamos leyendo datos del fichero por defecto o estándar, el teclado.\n",
    "\n",
    "Cuando no usamos los ficheros estándar, tanto en Python como en cualquier otro lenguaje de programación, debemos realizar algunas tareas adicionales:\n",
    "\n",
    "* Abrir el fichero: hay que asociar el fichero (definido a nivel del S.O.) con un objeto que provea la fuente de datos y definir si se va utilizar para entrada o para salida de datos, es decir, para leer o para escribir.\n",
    "\n",
    "* Cerrar el fichero: Una vez finalizada la interacción con el objeto que representa el fichero, este hecho debe ser informado al S.O. mediante los métodos apropiados. Así, el S.O. podrá realizar las acciones requeridas para garantizar que el fichero queda en un estado consistente y seguro.\n",
    "\n",
    "\n",
    "Los ficheros no estándar deben ser abiertos antes de ser utilizados, y cerrados cuando se concluya (al menos provisionalmente) el trabajo con ellos.\n",
    "\n",
    "Para abrir un fichero debemos tener en cuenta:\n",
    "\n",
    "* La localización del fichero: (Ej.: “datos/temperaturas/Barcelona.dat”)\n",
    "* La declaración del modo de apertura, que es un parámetro que indica si, por ejemplo, queremos leer del fichero o escribir en el fichero:\n",
    "\n",
    "    * 'w' para escritura (write),\n",
    "    * 'a' para escribir sin borrar lo previo (append)\n",
    "    * 'r' para lectura (read)\n",
    "\n",
    "La asignación de un nombre en el programa que a partir de ese momento representará al fichero (Ej.: fich_bcn)\n",
    "\n",
    "Para abrir un fichero disponemos de la función `open()`, que nos devuelve el objeto fichero con el que vamos a poder trabajar a partir de ese momento. En el ejemplo, se abre un fichero 'Barcelona.dat' especificando la ruta de acceso desde el directorio de trabajo, con la intención de escribir en él datos, ('w') y al que se referenciará con el nombre `fich_bcn`.\n",
    "```bash\n",
    "fich_bcn = open('datos/temperaturas/Barcelona.dat','w')\n",
    "```\n",
    "\n",
    "Para cerrar el fichero se usa el método `close()`. Siguiendo con el ejemplo anterior:\n",
    "```bash \n",
    "fich_bcn = open('datos/temperaturas/Barcelona.dat', 'w')\n",
    "# Código de escritura en el fichero\n",
    "# ...\n",
    "fich_bcn.close()  # Cerramos el fichero\n",
    "```\n",
    "\n",
    "Tras abrir el fichero correspondiente, la forma básica de leer un fichero línea por línea es:\n",
    "```bash\n",
    "fich_ent = open('nombre_fichero.txt', 'r')\n",
    "for linea in fich_ent:\n",
    "    # Procesar la línea\n",
    "fich_ent.close()\n",
    "```\n",
    "\n",
    "La variable `linea` es una cadena de caracteres que va tomando secuencialmente las cadenas de caracteres correspondientes a cada una de las líneas del fichero, desde la primera a la última.\n",
    "```bash\n",
    "# Leyendo del fichero \"valores_en_columna.txt\" línea a línea\n",
    "fich_ent = open('valores_en_columna.txt', 'r')  # Apertura\n",
    "\n",
    "for linea in fich_ent:\n",
    "    print(linea)\n",
    "\n",
    "fich_ent.close()  # Cierre\n",
    "```"
   ]
  }
 ],
 "metadata": {
  "kernelspec": {
   "display_name": "Python 3",
   "language": "python",
   "name": "python3"
  },
  "language_info": {
   "name": "python",
   "version": "3.11.2"
  },
  "orig_nbformat": 4,
  "vscode": {
   "interpreter": {
    "hash": "b0fa6594d8f4cbf19f97940f81e996739fb7646882a419484c72d19e05852a7e"
   }
  }
 },
 "nbformat": 4,
 "nbformat_minor": 2
}
